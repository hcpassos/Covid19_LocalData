{
 "cells": [
  {
   "cell_type": "code",
   "execution_count": 1,
   "metadata": {},
   "outputs": [],
   "source": [
    "#Importação das Bibliotecas\n",
    "import pandas as pd\n",
    "import matplotlib.pyplot as plt\n",
    "import matplotlib.ticker as ticker\n",
    "from bs4 import BeautifulSoup as bsp\n",
    "from urllib.request import urlopen\n",
    "import numpy as np"
   ]
  },
  {
   "cell_type": "code",
   "execution_count": 2,
   "metadata": {},
   "outputs": [],
   "source": [
    "#=========================================\n",
    "# Dados do contágio de Covid-19 no Brasil \n",
    "# Fonte: https://g1.globo.com/\n",
    "#========================================="
   ]
  },
  {
   "cell_type": "code",
   "execution_count": 3,
   "metadata": {},
   "outputs": [],
   "source": [
    "#Fazendo o request. O ideal é usar Try/Except considerando que nem sempre teremos status 200 no request.\n",
    "html = urlopen(\"https://g1.globo.com/bemestar/coronavirus/noticia/2020/03/21/casos-de-coronavirus-no-brasil-em-21-de-marco.ghtml\")"
   ]
  },
  {
   "cell_type": "code",
   "execution_count": 4,
   "metadata": {},
   "outputs": [],
   "source": [
    "#Fazendo leitura do html com o BeautifulSoup\n",
    "res = bsp(html.read())"
   ]
  },
  {
   "cell_type": "code",
   "execution_count": 5,
   "metadata": {},
   "outputs": [],
   "source": [
    "#Pegando os dados da tag que nos interessa, passando pra uma string e convertendo em um DataFrame do Pandas\n",
    "tags = res.find_all('div',{'class':'show-table content-media content-media--normal'})\n",
    "table_str = str(tags)\n",
    "df_br = pd.read_html(table_str, index_col=None)[0]"
   ]
  },
  {
   "cell_type": "code",
   "execution_count": 6,
   "metadata": {},
   "outputs": [],
   "source": [
    "#Nomeando as colunas com a primeira linha (Pois veio da string)\n",
    "df_br.columns = df_br.iloc[0]\n",
    "#Excluind a primeira (títulos na string) e a última linha (totais) e atualizando os índices\n",
    "df_br = df_br.drop(df_br.index[0])\n",
    "df_br = df_br.drop(df_br.index[-1])\n",
    "df_br = df_br.reset_index(drop=True)"
   ]
  },
  {
   "cell_type": "code",
   "execution_count": 7,
   "metadata": {},
   "outputs": [],
   "source": [
    "#=================================================\n",
    "# Dados do contágio de Covid-19 no Espirito Santo \n",
    "# Fonte: https://saude.es.gov.br/\n",
    "#================================================="
   ]
  },
  {
   "cell_type": "code",
   "execution_count": 8,
   "metadata": {},
   "outputs": [],
   "source": [
    "html = urlopen(\"https://saude.es.gov.br/Not%C3%ADcia/secretaria-da-saude-divulga-24o-boletim-de-covid-19\")"
   ]
  },
  {
   "cell_type": "code",
   "execution_count": 9,
   "metadata": {},
   "outputs": [],
   "source": [
    "res = bsp(html.read())"
   ]
  },
  {
   "cell_type": "code",
   "execution_count": 10,
   "metadata": {},
   "outputs": [],
   "source": [
    "tags = res.find_all('table',{'width':'624'})\n",
    "#tags_mun = res.find_all('td',{})\n",
    "table_str = str(tags)\n",
    "df_es = pd.read_html(table_str, index_col=None)[0]"
   ]
  },
  {
   "cell_type": "code",
   "execution_count": 11,
   "metadata": {},
   "outputs": [],
   "source": [
    "#Como as regiões e municípios são tags tr separadas, preferi remover as regiões. Também os totais, NaN e colunas duplicadas.\n",
    "val_exc = ['CENTRAL','METROPOLITANA','NORTE','SUL','Total','Total Geral','NaN']\n",
    "for c in val_exc:\n",
    "    df_es.drop(df_es.loc[df_es[0]==c].index, inplace=True)\n",
    "df_es = df_es.dropna()\n",
    "df_es = df_es.drop([1,3,5,7],axis=1)"
   ]
  },
  {
   "cell_type": "code",
   "execution_count": 12,
   "metadata": {},
   "outputs": [],
   "source": [
    "#Nomeando as colunas com a primeira linha (Pois veio da string)\n",
    "df_es = df_es.reset_index(drop=True)\n",
    "df_es.columns = df_es.iloc[0]\n",
    "#Excluindo do df todas as linhas com os títulos na string e atualizando os índices\n",
    "val_exc = list(df_es.loc[df_es[df_es.columns[0]]==df_es.columns[0]].index)\n",
    "df_es = df_es.drop(val_exc)\n",
    "df_es = df_es.reset_index(drop=True)"
   ]
  },
  {
   "cell_type": "code",
   "execution_count": 13,
   "metadata": {},
   "outputs": [],
   "source": [
    "df_es_conf = df_es[df_es['Caso confirmado'] != '0']"
   ]
  },
  {
   "cell_type": "code",
   "execution_count": 14,
   "metadata": {},
   "outputs": [],
   "source": [
    "df_es_conf = df_es_conf.sort_values(by=['Caso confirmado'], ascending=False)"
   ]
  },
  {
   "cell_type": "code",
   "execution_count": 31,
   "metadata": {},
   "outputs": [
    {
     "data": {
      "image/png": "[encoded data removed]",
      "text/plain": [
       "<Figure size 432x288 with 1 Axes>"
      ]
     },
     "metadata": {
      "needs_background": "light"
     },
     "output_type": "display_data"
    }
   ],
   "source": [
    "mun = np.array(df_es_conf['Município de residência'])\n",
    "y_pos = np.arange(len(mun))\n",
    "casos = np.array(df_es_conf['Caso confirmado'].astype(str).astype(int))\n",
    "\n",
    "plt.barh(y_pos, casos, align='center', alpha=0.3)\n",
    "plt.yticks(y_pos, mun)\n",
    "plt.xlabel('Nro de Casos')\n",
    "plt.ylabel('Municípios')\n",
    "plt.title('Casos confirmados de Covid-19 no ES')\n",
    "plt.grid(True)\n",
    "\n",
    "plt.show()"
   ]
  },
  {
   "cell_type": "code",
   "execution_count": 16,
   "metadata": {},
   "outputs": [],
   "source": [
    "df_br_conf = df_br[df_br['Secretarias da Saúde'] != '0']\n",
    "df_br_conf['Secretarias da Saúde'] = df_br_conf['Secretarias da Saúde'].astype(str).astype(int)\n",
    "df_br_conf = df_br_conf.sort_values(by=['Secretarias da Saúde'], ascending=False)"
   ]
  },
  {
   "cell_type": "code",
   "execution_count": 17,
   "metadata": {},
   "outputs": [
    {
     "data": {
      "image/png": "[encoded data removed]",
      "text/plain": [
       "<Figure size 432x288 with 1 Axes>"
      ]
     },
     "metadata": {
      "needs_background": "light"
     },
     "output_type": "display_data"
    }
   ],
   "source": [
    "est = np.array(df_br_conf['Estado'])\n",
    "y_pos = np.arange(len(est))\n",
    "casos = np.array(df_br_conf['Secretarias da Saúde'].astype(str).astype(int))\n",
    "\n",
    "plt.barh(y_pos, casos, align='center', alpha=0.5 )\n",
    "plt.yticks(y_pos, est)\n",
    "plt.xlabel('Nro de Casos')\n",
    "plt.ylabel('Municípios')\n",
    "plt.title('Casos confirmados de Covid-19 no Brasil')\n",
    "\n",
    "plt.show()"
   ]
  },
  {
   "cell_type": "code",
   "execution_count": null,
   "metadata": {},
   "outputs": [],
   "source": []
  }
 ],
 "metadata": {
  "kernelspec": {
   "display_name": "Python 3",
   "language": "python",
   "name": "python3"
  },
  "language_info": {
   "codemirror_mode": {
    "name": "ipython",
    "version": 3
   },
   "file_extension": ".py",
   "mimetype": "text/x-python",
   "name": "python",
   "nbconvert_exporter": "python",
   "pygments_lexer": "ipython3",
   "version": "3.7.6"
  }
 },
 "nbformat": 4,
 "nbformat_minor": 2
}
