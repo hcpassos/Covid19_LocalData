{
 "cells": [
  {
   "cell_type": "code",
   "execution_count": 578,
   "metadata": {},
   "outputs": [],
   "source": [
    "#Importação das Bibliotecas\n",
    "import pandas as pd\n",
    "import matplotlib.pyplot as plt\n",
    "import matplotlib.ticker as ticker\n",
    "from bs4 import BeautifulSoup as bsp\n",
    "from urllib.request import urlopen\n",
    "import numpy as np"
   ]
  },
  {
   "cell_type": "code",
   "execution_count": 110,
   "metadata": {},
   "outputs": [],
   "source": [
    "#=========================================\n",
    "# Dados do contágio de Covid-19 no Brasil \n",
    "# Fonte: https://g1.globo.com/\n",
    "#========================================="
   ]
  },
  {
   "cell_type": "code",
   "execution_count": 111,
   "metadata": {},
   "outputs": [],
   "source": [
    "#Fazendo o request. O ideal é usar Try/Except considerando que nem sempre teremos status 200 no request.\n",
    "html = urlopen(\"https://g1.globo.com/bemestar/coronavirus/noticia/2020/03/21/casos-de-coronavirus-no-brasil-em-21-de-marco.ghtml\")"
   ]
  },
  {
   "cell_type": "code",
   "execution_count": 112,
   "metadata": {},
   "outputs": [],
   "source": [
    "#Fazendo leitura do html com o BeautifulSoup\n",
    "res = bsp(html.read())"
   ]
  },
  {
   "cell_type": "code",
   "execution_count": 113,
   "metadata": {},
   "outputs": [],
   "source": [
    "#Pegando os dados da tag que nos interessa, passando pra uma string e convertendo em um DataFrame do Pandas\n",
    "tags = res.find_all('div',{'class':'show-table content-media content-media--normal'})\n",
    "table_str = str(tags)\n",
    "df_br = pd.read_html(table_str, index_col=None)[0]"
   ]
  },
  {
   "cell_type": "code",
   "execution_count": 114,
   "metadata": {},
   "outputs": [],
   "source": [
    "#Nomeando as colunas com a primeira linha (Pois veio da string)\n",
    "df_br.columns = df_br.iloc[0]\n",
    "#Excluind a primeira (títulos na string) e a última linha (totais) e atualizando os índices\n",
    "df_br = df_br.drop(df_br.index[0])\n",
    "df_br = df_br.drop(df_br.index[-1])\n",
    "df_br = df_br.reset_index(drop=True)"
   ]
  },
  {
   "cell_type": "code",
   "execution_count": 457,
   "metadata": {},
   "outputs": [],
   "source": [
    "#=================================================\n",
    "# Dados do contágio de Covid-19 no Espirito Santo \n",
    "# Fonte: https://saude.es.gov.br/\n",
    "#================================================="
   ]
  },
  {
   "cell_type": "code",
   "execution_count": 458,
   "metadata": {},
   "outputs": [],
   "source": [
    "html = urlopen(\"https://saude.es.gov.br/Not%C3%ADcia/secretaria-da-saude-divulga-24o-boletim-de-covid-19\")"
   ]
  },
  {
   "cell_type": "code",
   "execution_count": 459,
   "metadata": {},
   "outputs": [],
   "source": [
    "res = bsp(html.read())"
   ]
  },
  {
   "cell_type": "code",
   "execution_count": 460,
   "metadata": {},
   "outputs": [],
   "source": [
    "tags = res.find_all('table',{'width':'624'})\n",
    "#tags_mun = res.find_all('td',{})\n",
    "table_str = str(tags)\n",
    "df_es = pd.read_html(table_str, index_col=None)[0]"
   ]
  },
  {
   "cell_type": "code",
   "execution_count": 461,
   "metadata": {},
   "outputs": [],
   "source": [
    "#Como as regiões e municípios são tags tr separadas, preferi remover as regiões. Também os totais, NaN e colunas duplicadas.\n",
    "val_exc = ['CENTRAL','METROPOLITANA','NORTE','SUL','Total','Total Geral','NaN']\n",
    "for c in val_exc:\n",
    "    df_es.drop(df_es.loc[df_es[0]==c].index, inplace=True)\n",
    "df_es = df_es.dropna()\n",
    "df_es = df_es.drop([1,3,5,7],axis=1)"
   ]
  },
  {
   "cell_type": "code",
   "execution_count": 462,
   "metadata": {},
   "outputs": [],
   "source": [
    "#Nomeando as colunas com a primeira linha (Pois veio da string)\n",
    "df_es = df_es.reset_index(drop=True)\n",
    "df_es.columns = df_es.iloc[0]\n",
    "#Excluindo do df todas as linhas com os títulos na string e atualizando os índices\n",
    "val_exc = list(df_es.loc[df_es[df_es.columns[0]]==df_es.columns[0]].index)\n",
    "df_es = df_es.drop(val_exc)\n",
    "df_es = df_es.reset_index(drop=True)"
   ]
  },
  {
   "cell_type": "code",
   "execution_count": null,
   "metadata": {},
   "outputs": [],
   "source": []
  },
  {
   "cell_type": "code",
   "execution_count": null,
   "metadata": {},
   "outputs": [],
   "source": []
  }
 ],
 "metadata": {
  "kernelspec": {
   "display_name": "Python 3",
   "language": "python",
   "name": "python3"
  },
  "language_info": {
   "codemirror_mode": {
    "name": "ipython",
    "version": 3
   },
   "file_extension": ".py",
   "mimetype": "text/x-python",
   "name": "python",
   "nbconvert_exporter": "python",
   "pygments_lexer": "ipython3",
   "version": "3.7.6"
  }
 },
 "nbformat": 4,
 "nbformat_minor": 2
}
